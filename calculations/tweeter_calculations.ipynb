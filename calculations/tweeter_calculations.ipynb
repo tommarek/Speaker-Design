{
 "cells": [
  {
   "cell_type": "markdown",
   "metadata": {},
   "source": [
    "# Tweeter Calculations - Scan-Speak D2608/913000\n",
    "\n",
    "This notebook contains acoustic calculations for the Scan-Speak D2608/913000 1\" dome tweeter in a sealed enclosure configuration.\n",
    "\n",
    "## Driver Specifications\n",
    "- **Model**: D2608/913000 (Discovery Series)\n",
    "- **Type**: 1\" textile soft dome tweeter\n",
    "- **Impedance**: 8Ω\n",
    "- **Sensitivity**: 91.3 dB @ 2.83V/1m\n",
    "- **Fs**: 700 Hz\n",
    "- **Usable Range**: 1,500 - 20,000+ Hz\n",
    "- **Recommended Crossover**: ≥1,500 Hz"
   ]
  },
  {
   "cell_type": "code",
   "execution_count": 2,
   "metadata": {},
   "outputs": [
    {
     "ename": "ModuleNotFoundError",
     "evalue": "No module named 'numpy'",
     "output_type": "error",
     "traceback": [
      "\u001b[31m---------------------------------------------------------------------------\u001b[39m",
      "\u001b[31mModuleNotFoundError\u001b[39m                       Traceback (most recent call last)",
      "\u001b[36mCell\u001b[39m\u001b[36m \u001b[39m\u001b[32mIn[2]\u001b[39m\u001b[32m, line 1\u001b[39m\n\u001b[32m----> \u001b[39m\u001b[32m1\u001b[39m \u001b[38;5;28;01mimport\u001b[39;00m\u001b[38;5;250m \u001b[39m\u001b[34;01mnumpy\u001b[39;00m\u001b[38;5;250m \u001b[39m\u001b[38;5;28;01mas\u001b[39;00m\u001b[38;5;250m \u001b[39m\u001b[34;01mnp\u001b[39;00m\n\u001b[32m      2\u001b[39m \u001b[38;5;28;01mimport\u001b[39;00m\u001b[38;5;250m \u001b[39m\u001b[34;01mmatplotlib\u001b[39;00m\u001b[34;01m.\u001b[39;00m\u001b[34;01mpyplot\u001b[39;00m\u001b[38;5;250m \u001b[39m\u001b[38;5;28;01mas\u001b[39;00m\u001b[38;5;250m \u001b[39m\u001b[34;01mplt\u001b[39;00m\n\u001b[32m      3\u001b[39m \u001b[38;5;28;01mimport\u001b[39;00m\u001b[38;5;250m \u001b[39m\u001b[34;01mpandas\u001b[39;00m\u001b[38;5;250m \u001b[39m\u001b[38;5;28;01mas\u001b[39;00m\u001b[38;5;250m \u001b[39m\u001b[34;01mpd\u001b[39;00m\n",
      "\u001b[31mModuleNotFoundError\u001b[39m: No module named 'numpy'"
     ]
    }
   ],
   "source": [
    "import numpy as np\n",
    "import matplotlib.pyplot as plt\n",
    "import pandas as pd\n",
    "from scipy import signal\n",
    "import plotly.graph_objects as go\n",
    "from plotly.subplots import make_subplots\n",
    "import warnings\n",
    "warnings.filterwarnings('ignore')\n",
    "\n",
    "# Set up plotting style\n",
    "plt.style.use('seaborn-v0_8')\n",
    "plt.rcParams['figure.figsize'] = (12, 8)\n",
    "plt.rcParams['font.size'] = 12"
   ]
  },
  {
   "cell_type": "markdown",
   "metadata": {},
   "source": [
    "## 1. Driver Parameters"
   ]
  },
  {
   "cell_type": "code",
   "metadata": {},
   "outputs": [],
   "source": "# Scan-Speak D2608/913000 Parameters from specs.MD and datasheet\ntweeter_params = {\n    'name': 'Scan-Speak D2608/913000',\n    'type': '1\" Dome Tweeter',\n    'series': 'Discovery',\n    'also_known_as': 'Peerless HDS 810921',\n    'impedance': 8,  # Ω (FROM SPECS.MD)\n    'sensitivity': 91.3,  # dB @ 2.83V/1m (FROM SPECS.MD)\n    'fs': 700,  # Hz - Free air resonance (FROM SPECS.MD)\n    'bl': 2.6,  # Tm - BL product (FROM SPECS.MD)\n    'cms': 0.29e-3,  # m/N - Compliance (FROM SPECS.MD: 0.29 mm/N)\n    'mms': 0.18e-3,  # kg - Moving mass (FROM SPECS.MD: 0.18g)\n    'xmax': 0.5e-3,  # m - Maximum linear excursion (FROM SPECS.MD)\n    'sd': 7e-4,  # m² - Effective piston area (FROM SPECS.MD: 7 cm²)\n    'vas': 0.0007 * 28.317,  # L - Convert ft³ to L (FROM SPECS.MD: 0.0007 ft³)\n    'dome_diameter': 26e-3,  # m - Dome diameter (FROM SPECS.MD)\n    'freq_range': (1500, 20000),  # Hz - Usable frequency range (FROM SPECS.MD)\n    'crossover_min': 1500,  # Hz - Minimum recommended crossover (FROM SPECS.MD)\n    'usage_range': (2750, 20000),  # Hz - Usage range in 3-way system\n    'enclosure_type': 'sealed',\n    'features': [\n        'Very low mass textile soft dome diaphragm',\n        'Optimized magnet system with double magnets', \n        'Low damping magnetic fluid (ferrofluid) cooling',\n        'Fully vented motor system for low compression',\n        '8 ohm impedance, positive terminal marked with white paint',\n        'Replaceable voice coil assembly',\n        'Black die-cast aluminum face plate',\n        'Made in Denmark'\n    ]\n}\n\n# Load real measurement data\ntry:\n    fr_data = pd.read_csv('/home/tom/git/Speaker-Design/speakers/ScanSpeak D20608-913000/Frequency Response.csv', \n                         header=None, names=['freq', 'spl'])\n    impedance_data = pd.read_csv('/home/tom/git/Speaker-Design/speakers/ScanSpeak D20608-913000/Impedance.csv', \n                               header=None, names=['freq', 'impedance'])\n    \n    print(\"✅ Real measurement data loaded successfully!\")\n    print(f\"Frequency response: {len(fr_data)} points from {fr_data['freq'].min():.0f} to {fr_data['freq'].max():.0f} Hz\")\n    print(f\"Impedance: {len(impedance_data)} points from {impedance_data['freq'].min():.0f} to {impedance_data['freq'].max():.0f} Hz\")\n    \n    real_data_available = True\nexcept FileNotFoundError:\n    print(\"❌ Real measurement data not found\")\n    real_data_available = False\n\n# Display parameters\ndf_params = pd.DataFrame([\n    ['Driver Model', tweeter_params['name']],\n    ['Type', tweeter_params['type']],\n    ['Series', tweeter_params['series']],\n    ['Also Known As', tweeter_params['also_known_as']],\n    ['Impedance', f\"{tweeter_params['impedance']} Ω\"],\n    ['Sensitivity', f\"{tweeter_params['sensitivity']} dB @ 2.83V/1m\"],\n    ['Free Air Resonance (Fs)', f\"{tweeter_params['fs']} Hz\"],\n    ['BL Product', f\"{tweeter_params['bl']} Tm\"],\n    ['Compliance (Cms)', f\"{tweeter_params['cms']*1000:.2f} mm/N\"],\n    ['Moving Mass (Mms)', f\"{tweeter_params['mms']*1000:.2f} g\"],\n    ['Max Excursion (Xmax)', f\"{tweeter_params['xmax']*1000:.1f} mm\"],\n    ['Effective Area (Sd)', f\"{tweeter_params['sd']*1e4:.0f} cm²\"],\n    ['Equivalent Volume (Vas)', f\"{tweeter_params['vas']:.4f} L\"],\n    ['Dome Diameter', f\"{tweeter_params['dome_diameter']*1000:.0f} mm\"],\n    ['Usable Frequency Range', f\"{tweeter_params['freq_range'][0]:,}-{tweeter_params['freq_range'][1]:,} Hz\"],\n    ['Min Crossover Frequency', f\"{tweeter_params['crossover_min']:,} Hz\"],\n    ['Usage Range (3-way)', f\"{tweeter_params['usage_range'][0]:,}-{tweeter_params['usage_range'][1]:,} Hz\"],\n    ['Enclosure Type', tweeter_params['enclosure_type']]\n], columns=['Parameter', 'Value'])\n\nprint(\"\\n📋 Scan-Speak D2608/913000 Parameters (Updated from specs.MD):\")\nprint(\"=\" * 70)\nprint(df_params.to_string(index=False))\n\nprint(f\"\\n🔧 KEY FEATURES:\")\nfor feature in tweeter_params['features']:\n    print(f\"   • {feature}\")\n\nprint(f\"\\n⚠️ PARAMETER UPDATES FROM SPECS.MD:\")\nprint(f\"   • Sensitivity: Updated to {tweeter_params['sensitivity']} dB (authoritative)\")\nprint(f\"   • All T-S parameters now match specs.MD\")\nprint(f\"   • Added complete physical specifications\")\nprint(f\"   • Confirmed Danish manufacture (high quality)\")\n\nprint(f\"\\n🎯 TWEETER DESIGN TARGETS:\")\nprint(f\"   • Frequency range: {tweeter_params['usage_range'][0]:,}-{tweeter_params['usage_range'][1]:,} Hz\")\nprint(f\"   • High sensitivity: {tweeter_params['sensitivity']} dB\")\nprint(f\"   • Professional grade driver from Denmark\")\nprint(f\"   • Good impedance match: {tweeter_params['impedance']}Ω → 25W available from amp\")\nprint(f\"   • Safe crossover at {tweeter_params['usage_range'][0]:,} Hz (well above {tweeter_params['crossover_min']:,} Hz minimum)\")",
   "execution_count": null
  },
  {
   "cell_type": "markdown",
   "metadata": {},
   "source": [
    "## 2. Frequency Response Analysis"
   ]
  },
  {
   "cell_type": "code",
   "metadata": {},
   "outputs": [],
   "source": "# Load real measurement data for Scan-Speak D2608/913000\nimport pandas as pd\n\n# Read real frequency response data\ntry:\n    fr_data = pd.read_csv('/home/tom/git/Speaker-Design/speakers/ScanSpeak D20608-913000/Frequency Response.csv', \n                         header=None, names=['freq', 'spl'])\n    impedance_data = pd.read_csv('/home/tom/git/Speaker-Design/speakers/ScanSpeak D20608-913000/Impedance.csv', \n                               header=None, names=['freq', 'impedance'])\n    \n    print(\"✅ Real measurement data loaded successfully!\")\n    print(f\"Frequency response: {len(fr_data)} points from {fr_data['freq'].min():.0f} to {fr_data['freq'].max():.0f} Hz\")\n    print(f\"Impedance: {len(impedance_data)} points from {impedance_data['freq'].min():.0f} to {impedance_data['freq'].max():.0f} Hz\")\n    \n    real_data_available = True\nexcept FileNotFoundError:\n    print(\"❌ Real measurement data not found - using theoretical model\")\n    real_data_available = False\n\n# Define frequency range for analysis\nfreq = np.logspace(2, 5, 1000)  # 100 Hz to 100 kHz\n\ndef tweeter_response_theoretical(f, fs, sensitivity):\n    \"\"\"\n    SIMPLIFIED tweeter response model - THEORETICAL ESTIMATE\n    - Flat response above fs with gradual rolloff at high frequencies\n    - 12 dB/octave rolloff below fs\n    \"\"\"\n    response = np.zeros_like(f)\n    \n    # Below resonance: 12 dB/octave rolloff\n    below_fs = f < fs\n    response[below_fs] = sensitivity + 20 * np.log10(f[below_fs] / fs)\n    \n    # Above resonance: relatively flat with gentle high-frequency rolloff\n    above_fs = f >= fs\n    # Gentle rolloff starting around 10 kHz for textile dome\n    rolloff_freq = 10000\n    response[above_fs] = sensitivity - 6 * np.log10(1 + (f[above_fs] / rolloff_freq)**2)\n    \n    return response\n\n# Plot frequency response\nfig, (ax1, ax2) = plt.subplots(2, 1, figsize=(12, 10))\n\nif real_data_available:\n    # Plot real measurement data\n    ax1.semilogx(fr_data['freq'], fr_data['spl'], 'r-', linewidth=2, \n                label='Real Measurement Data', alpha=0.8)\n    \n    # Calculate theoretical for comparison\n    tweeter_spl_theoretical = tweeter_response_theoretical(freq, tweeter_params['fs'], tweeter_params['sensitivity'])\n    ax1.semilogx(freq, tweeter_spl_theoretical, 'b--', linewidth=1, alpha=0.6,\n                label='Theoretical Model (for comparison)')\n    \n    title_suffix = \"(REAL MEASUREMENT DATA)\"\n    data_label = \"Real Measurement\"\nelse:\n    # Use theoretical model\n    tweeter_spl = tweeter_response_theoretical(freq, tweeter_params['fs'], tweeter_params['sensitivity'])\n    ax1.semilogx(freq, tweeter_spl, 'b-', linewidth=2, label='Tweeter Response (ESTIMATED)')\n    title_suffix = \"(THEORETICAL MODEL)\"\n    data_label = \"Estimated\"\n\n# Add reference lines\nax1.axvline(tweeter_params['fs'], color='r', linestyle='--', alpha=0.7, label=f'Fs = {tweeter_params[\"fs\"]} Hz')\nax1.axvline(tweeter_params['recommended_crossover'], color='g', linestyle='--', alpha=0.7, \n           label=f'Min Crossover = {tweeter_params[\"recommended_crossover\"]} Hz')\nax1.axvspan(tweeter_params['usable_range'][0], tweeter_params['usable_range'][1], \n           alpha=0.2, color='green', label='Usable Range')\n\nax1.set_xlabel('Frequency (Hz)')\nax1.set_ylabel('SPL (dB)')\nax1.set_title(f'Scan-Speak D2608/913000 Frequency Response {title_suffix}')\nax1.grid(True, alpha=0.3)\nax1.legend()\nax1.set_xlim(100, 50000)\n\nif real_data_available:\n    ax1.set_ylim(fr_data['spl'].min() - 5, fr_data['spl'].max() + 5)\nelse:\n    ax1.set_ylim(60, 100)\n    # Add warning text for theoretical model\n    ax1.text(0.02, 0.98, 'WARNING: Estimated curves - real measurement data needed!', \n             transform=ax1.transAxes, fontsize=10, fontweight='bold', \n             bbox=dict(boxstyle='round', facecolor='yellow', alpha=0.8),\n             verticalalignment='top')\n\n# Impedance plot\nif real_data_available:\n    # Plot real impedance data\n    ax2.semilogx(impedance_data['freq'], impedance_data['impedance'], 'r-', linewidth=2,\n                label='Real Measurement Data', alpha=0.8)\n    \n    # Calculate theoretical for comparison\n    Z_theoretical = tweeter_params['impedance'] * (1 + 2 * np.exp(-((freq - tweeter_params['fs'])/200)**2))\n    ax2.semilogx(freq, Z_theoretical, 'b--', linewidth=1, alpha=0.6,\n                label='Theoretical Model (for comparison)')\n    \n    impedance_title = \"Real Impedance Measurement\"\nelse:\n    # Use theoretical model\n    Z_tweeter = tweeter_params['impedance'] * (1 + 2 * np.exp(-((freq - tweeter_params['fs'])/200)**2))\n    ax2.semilogx(freq, Z_tweeter, 'r-', linewidth=2, label='Impedance (ESTIMATED)')\n    impedance_title = \"Estimated Impedance Response (THEORETICAL MODEL)\"\n    \n    # Add warning text for theoretical model\n    ax2.text(0.02, 0.98, 'WARNING: Estimated curves - real measurement data needed!', \n             transform=ax2.transAxes, fontsize=10, fontweight='bold', \n             bbox=dict(boxstyle='round', facecolor='yellow', alpha=0.8),\n             verticalalignment='top')\n\nax2.axvline(tweeter_params['fs'], color='r', linestyle='--', alpha=0.7, label=f'Fs = {tweeter_params[\"fs\"]} Hz')\nax2.set_xlabel('Frequency (Hz)')\nax2.set_ylabel('Impedance (Ω)')\nax2.set_title(impedance_title)\nax2.grid(True, alpha=0.3)\nax2.legend()\nax2.set_xlim(100, 50000)\n\nif real_data_available:\n    ax2.set_ylim(impedance_data['impedance'].min() - 1, impedance_data['impedance'].max() + 2)\nelse:\n    ax2.set_ylim(4, 20)\n\nplt.tight_layout()\nplt.show()\n\n# Print data analysis\nif real_data_available:\n    print(f\"\\n📊 REAL MEASUREMENT ANALYSIS:\")\n    print(f\"   • Sensitivity range: {fr_data['spl'].min():.1f} to {fr_data['spl'].max():.1f} dB\")\n    print(f\"   • Average SPL (1-10kHz): {fr_data[(fr_data['freq'] >= 1000) & (fr_data['freq'] <= 10000)]['spl'].mean():.1f} dB\")\n    print(f\"   • Impedance range: {impedance_data['impedance'].min():.1f} to {impedance_data['impedance'].max():.1f} Ω\")\n    print(f\"   • Nominal impedance: ~{impedance_data[(impedance_data['freq'] >= 1000) & (impedance_data['freq'] <= 10000)]['impedance'].mean():.1f} Ω\")\n    \n    # Find resonance frequency from impedance peak\n    resonance_idx = impedance_data['impedance'].idxmax()\n    actual_fs = impedance_data.loc[resonance_idx, 'freq']\n    print(f\"   • Measured Fs (impedance peak): {actual_fs:.0f} Hz\")\n    print(f\"   • Spec Fs vs Measured: {tweeter_params['fs']} Hz vs {actual_fs:.0f} Hz\")\nelse:\n    print(f\"\\n⚠️ Using theoretical model - real measurements would provide:\")\n    print(f\"   • Actual frequency response characteristics\")\n    print(f\"   • True resonance frequency\")\n    print(f\"   • Real impedance behavior\")\n    print(f\"   • Breakup modes and irregularities\")",
   "execution_count": null
  },
  {
   "cell_type": "markdown",
   "metadata": {},
   "source": [
    "## 3. Crossover Design"
   ]
  },
  {
   "cell_type": "code",
   "metadata": {},
   "outputs": [],
   "source": "# Crossover parameters\ncrossover_freq = 2750  # Hz - Mid to tweeter crossover from specs\ncrossover_order = 4  # 4th order = 24 dB/octave (Linkwitz-Riley)\n\ndef linkwitz_riley_highpass(f, fc, order=4):\n    \"\"\"\n    Linkwitz-Riley high-pass filter response\n    \"\"\"\n    s = 1j * 2 * np.pi * f / (2 * np.pi * fc)\n    \n    if order == 4:\n        # 4th order LR = cascaded 2nd order Butterworth\n        h = s**2 / (s**2 + np.sqrt(2)*s + 1)\n        return 20 * np.log10(np.abs(h)**2)\n    else:\n        # General case\n        h = (s**(order//2)) / ((s**(order//2)) + 1)\n        return 20 * np.log10(np.abs(h))\n\n# Calculate crossover response\ncrossover_response = linkwitz_riley_highpass(freq, crossover_freq, crossover_order)\n\n# Get tweeter response for crossover analysis\nif real_data_available:\n    # Use real measurement data for crossover analysis\n    # Interpolate real data to match frequency array\n    from scipy.interpolate import interp1d\n    \n    # Create interpolation function for real data\n    freq_interp = interp1d(fr_data['freq'], fr_data['spl'], \n                          bounds_error=False, fill_value='extrapolate')\n    tweeter_spl_for_crossover = freq_interp(freq)\nelse:\n    # Use theoretical model\n    tweeter_spl_for_crossover = tweeter_response_theoretical(freq, tweeter_params['fs'], tweeter_params['sensitivity'])\n\n# Combined response (tweeter + crossover)\ntweeter_filtered = tweeter_spl_for_crossover + crossover_response\n\n# Plot crossover analysis\nfig, (ax1, ax2) = plt.subplots(2, 1, figsize=(12, 10))\n\n# Crossover filter response\nax1.semilogx(freq, crossover_response, 'g-', linewidth=2, label=f'{crossover_order}th Order LR High-Pass')\nax1.axvline(crossover_freq, color='r', linestyle='--', alpha=0.7, \n           label=f'Crossover = {crossover_freq} Hz')\nax1.axhline(-3, color='k', linestyle=':', alpha=0.5, label='-3 dB')\nax1.axhline(-6, color='k', linestyle=':', alpha=0.5, label='-6 dB')\nax1.set_xlabel('Frequency (Hz)')\nax1.set_ylabel('Magnitude (dB)')\nax1.set_title(f'Tweeter Crossover Filter Response ({crossover_freq} Hz, {crossover_order}th Order LR)')\nax1.grid(True, alpha=0.3)\nax1.legend()\nax1.set_xlim(1000, 20000)\nax1.set_ylim(-60, 5)\n\n# Combined response\ndata_label = \"Real Measurement\" if real_data_available else \"Theoretical Model\"\nline_style = 'r-' if real_data_available else 'b--'\n\nax2.semilogx(freq, tweeter_spl_for_crossover, line_style, alpha=0.7, \n            label=f'Raw Tweeter Response ({data_label})')\nax2.semilogx(freq, tweeter_filtered, 'k-', linewidth=2, \n            label='Tweeter + Crossover')\nax2.axvline(crossover_freq, color='r', linestyle='--', alpha=0.7, \n           label=f'Crossover = {crossover_freq} Hz')\nax2.set_xlabel('Frequency (Hz)')\nax2.set_ylabel('SPL (dB)')\nax2.set_title(f'Tweeter Response with Crossover Filter ({data_label})')\nax2.grid(True, alpha=0.3)\nax2.legend()\nax2.set_xlim(1000, 20000)\n\nif real_data_available:\n    ax2.set_ylim(60, 100)\nelse:\n    ax2.set_ylim(60, 95)\n\nplt.tight_layout()\nplt.show()\n\n# Print crossover analysis\nprint(f\"\\n🎛️ CROSSOVER ANALYSIS:\")\nprint(f\"=\" * 50)\nprint(f\"Crossover Frequency: {crossover_freq} Hz\")\nprint(f\"Crossover Order: {crossover_order}th order (24 dB/octave)\")\nprint(f\"Filter Type: Linkwitz-Riley\")\nprint(f\"Safety Margin above Fs: {crossover_freq/tweeter_params['fs']:.1f}x\")\nprint(f\"Well within usable range: {crossover_freq >= tweeter_params['recommended_crossover']}\")\n\nif real_data_available:\n    print(f\"Data source: Real measurement data\")\n    # Calculate average response in crossover region\n    crossover_mask = (fr_data['freq'] >= crossover_freq*0.8) & (fr_data['freq'] <= crossover_freq*1.2)\n    if crossover_mask.any():\n        avg_response = fr_data[crossover_mask]['spl'].mean()\n        print(f\"Average SPL near crossover: {avg_response:.1f} dB\")\nelse:\n    print(f\"Data source: Theoretical model\")\n    print(f\"⚠️ Real measurements would provide more accurate crossover design\")",
   "execution_count": null
  },
  {
   "cell_type": "markdown",
   "metadata": {},
   "source": [
    "## 4. Power Handling and Thermal Analysis"
   ]
  },
  {
   "cell_type": "code",
   "metadata": {},
   "outputs": [],
   "source": "# Power analysis - Updated with CORRECTED OFFICIAL power ratings\namplifier_power = 25  # W @ 8Ω (from XH-M180 specs)\n\n# CORRECTED power ratings from datasheet (the \"80400W\" appears to be a formatting error)\n# Based on typical dome tweeter ratings and the \"W\" on second line suggesting missing value\ntweeter_power_100h = 80  # W - 100h RMS noise test (IEC 17.1) - ASSUME this is correct\ntweeter_power_long_term = 40  # W - Long-term max power (IEC 17.3) - ASSUME based on typical ratios\n\nprint(\"⚠️ DATASHEET POWER RATING CLARIFICATION NEEDED:\")\nprint(\"Original datasheet shows:\")\nprint(\"  100h RMS noise test (IEC 17.1): 80400W  ← LIKELY FORMATTING ERROR\")\nprint(\"  Long-term max power (IEC 17.3): W       ← MISSING VALUE\")\nprint(\"\")\nprint(\"ASSUMPTIONS USED (need verification):\")\nprint(f\"  100h RMS: {tweeter_power_100h}W (assuming 80W, ignoring '400')\")\nprint(f\"  Long-term: {tweeter_power_long_term}W (typical 50% of 100h rating)\")\nprint(\"  → RECOMMEND: Verify actual power ratings with manufacturer!\")\n\ntypical_power_usage = 8  # W - estimated typical usage\npeak_power_usage = 15  # W - estimated peak usage\n\ndef calculate_spl_from_power(power_watts, sensitivity_db, distance_m=1):\n    \"\"\"\n    Calculate SPL from power, sensitivity, and distance\n    \"\"\"\n    # Convert power to dBW\n    power_dbw = 10 * np.log10(power_watts)\n    \n    # Calculate SPL at 1m\n    spl_1m = sensitivity_db + power_dbw\n    \n    # Adjust for distance (6 dB per doubling of distance)\n    if distance_m != 1:\n        spl = spl_1m - 20 * np.log10(distance_m)\n    else:\n        spl = spl_1m\n    \n    return spl\n\n# Calculate SPL levels - using CONSERVATIVE power estimates\npower_levels = np.array([1, 2, 5, 8, 10, 15, 20, 25, 40, 80])  # Watts\nspl_levels = [calculate_spl_from_power(p, tweeter_params['sensitivity']) for p in power_levels]\n\n# Create power vs SPL table\npower_table = pd.DataFrame({\n    'Power (W)': power_levels,\n    'SPL @ 1m (dB)': [f\"{spl:.1f}\" for spl in spl_levels],\n    'SPL @ 2m (dB)': [f\"{calculate_spl_from_power(p, tweeter_params['sensitivity'], 2):.1f}\" for p in power_levels],\n    'SPL @ 3m (dB)': [f\"{calculate_spl_from_power(p, tweeter_params['sensitivity'], 3):.1f}\" for p in power_levels],\n    'Status': ['Low', 'Low', 'Moderate', 'Typical', 'Safe', 'Peak Est', 'Conservative', 'Amp Max', 'Est LT Max', 'Est 100h Max']\n})\n\nprint(f\"\\nPower vs SPL Analysis (CONSERVATIVE estimates - verify actual ratings!):\")\nprint(\"=\" * 70)\nprint(power_table.to_string(index=False))\n\n# Plot power vs SPL\nplt.figure(figsize=(12, 8))\nplt.plot(power_levels, spl_levels, 'b-o', linewidth=2, markersize=6, label='SPL @ 1m')\nplt.plot(power_levels, [calculate_spl_from_power(p, tweeter_params['sensitivity'], 2) for p in power_levels], \n         'g-s', linewidth=2, markersize=6, label='SPL @ 2m')\nplt.plot(power_levels, [calculate_spl_from_power(p, tweeter_params['sensitivity'], 3) for p in power_levels], \n         'r-^', linewidth=2, markersize=6, label='SPL @ 3m')\n\n# Add power limit lines\nplt.axvline(typical_power_usage, color='orange', linestyle='--', alpha=0.7, label=f'Typical Usage ({typical_power_usage}W)')\nplt.axvline(amplifier_power, color='red', linestyle='--', alpha=0.7, label=f'Amplifier Limit ({amplifier_power}W)')\nplt.axvline(tweeter_power_long_term, color='purple', linestyle=':', alpha=0.5, \n           label=f'Est. Tweeter Long-term ({tweeter_power_long_term}W)')\nplt.axvline(tweeter_power_100h, color='darkred', linestyle=':', alpha=0.5, \n           label=f'Est. Tweeter 100h ({tweeter_power_100h}W)')\n\nplt.xlabel('Power (W)')\nplt.ylabel('SPL (dB)')\nplt.title('Tweeter Power vs SPL Relationship (VERIFY POWER RATINGS!)')\nplt.grid(True, alpha=0.3)\nplt.legend()\nplt.xlim(0, 85)\nplt.ylim(85, 130)\n\n# Add warning annotation\nplt.text(0.02, 0.98, 'WARNING: Power ratings need verification!\\nDatasheet shows unclear values', \n         transform=plt.gca().transAxes, fontsize=10, fontweight='bold', \n         bbox=dict(boxstyle='round', facecolor='yellow', alpha=0.8),\n         verticalalignment='top')\n\nplt.show()\n\nprint(f\"\\n⚡ POWER ANALYSIS SUMMARY (NEEDS VERIFICATION):\")\nprint(f\"=\" * 60)\nprint(f\"Available amplifier power: {amplifier_power}W @ 8Ω\")\nprint(f\"Estimated tweeter long-term max: {tweeter_power_long_term}W (VERIFY!)\")\nprint(f\"Estimated tweeter 100h RMS max: {tweeter_power_100h}W (VERIFY!)\")\nprint(f\"Recommended filter: {tweeter_params['filter_rec']}\")\nprint(f\"\")\nprint(f\"Power Usage Scenarios:\")\nprint(f\"• Typical usage: {typical_power_usage}W → {calculate_spl_from_power(typical_power_usage, tweeter_params['sensitivity']):.1f} dB @ 1m\")\nprint(f\"• Peak usage: {peak_power_usage}W → {calculate_spl_from_power(peak_power_usage, tweeter_params['sensitivity']):.1f} dB @ 1m\")\nprint(f\"• Amplifier limit: {amplifier_power}W → {calculate_spl_from_power(amplifier_power, tweeter_params['sensitivity']):.1f} dB @ 1m\")\nprint(f\"• Est. tweeter long-term: {tweeter_power_long_term}W → {calculate_spl_from_power(tweeter_power_long_term, tweeter_params['sensitivity']):.1f} dB @ 1m\")\nprint(f\"\")\nprint(f\"Safety Analysis (based on estimates):\")\nprint(f\"• Amplifier vs Est. Tweeter LT: {tweeter_power_long_term/amplifier_power:.1f}x safety factor\")\nprint(f\"• Typical vs Amplifier: {amplifier_power/typical_power_usage:.1f}x headroom\")\n\n# Check if amplifier is safe for tweeter (conservative approach)\nif amplifier_power <= tweeter_power_long_term:\n    print(f\"\\n✅ AMPLIFIER COMPATIBILITY: LIKELY SAFE (verify power ratings)\")\n    print(f\"   Amplifier power ({amplifier_power}W) ≤ Est. tweeter long-term ({tweeter_power_long_term}W)\")\nelse:\n    print(f\"\\n⚠️ AMPLIFIER COMPATIBILITY: REQUIRES CAREFUL VERIFICATION\")\n    print(f\"   Amplifier power ({amplifier_power}W) vs Est. tweeter long-term ({tweeter_power_long_term}W)\")\n\nprint(f\"\\n🚨 ACTION REQUIRED:\")\nprint(f\"   1. Contact Scan-Speak to verify actual power ratings\")\nprint(f\"   2. Check if '80400W' is a typo (likely should be '80W' or '40W')\")\nprint(f\"   3. Confirm long-term power rating value\")\nprint(f\"   4. Update calculations once confirmed\")",
   "execution_count": null
  },
  {
   "cell_type": "markdown",
   "metadata": {},
   "source": [
    "## 5. Enclosure Design"
   ]
  },
  {
   "cell_type": "code",
   "execution_count": null,
   "metadata": {},
   "outputs": [],
   "source": [
    "# Tweeter enclosure analysis\n",
    "# Tweeters typically need minimal sealed chamber for optimal performance\n",
    "\n",
    "# Recommended enclosure volume (very small for tweeter)\n",
    "enclosure_volume_L = 0.05  # Liters - minimal sealed chamber\n",
    "enclosure_volume_m3 = enclosure_volume_L / 1000\n",
    "\n",
    "# Calculate enclosure effects (minimal for tweeter)\n",
    "def tweeter_enclosure_effects(vas, vb):\n",
    "    \"\"\"\n",
    "    Calculate the effect of enclosure on tweeter performance\n",
    "    For tweeters, this is minimal due to very small Vas\n",
    "    \"\"\"\n",
    "    alpha = vas / vb  # Compliance ratio\n",
    "    \n",
    "    # Effects are minimal for tweeters\n",
    "    qtc_multiplier = np.sqrt(1 + alpha)  # Very close to 1\n",
    "    fc_multiplier = np.sqrt(1 + alpha)   # Very close to 1\n",
    "    \n",
    "    return qtc_multiplier, fc_multiplier, alpha\n",
    "\n",
    "# Calculate enclosure effects\n",
    "qtc_mult, fc_mult, alpha = tweeter_enclosure_effects(tweeter_params['vas'], enclosure_volume_m3)\n",
    "\n",
    "# Physical dimensions for 3D printing\n",
    "dome_diameter = tweeter_params['dome_diameter'] * 1000  # mm\n",
    "cutout_diameter = dome_diameter + 5  # mm - typical clearance\n",
    "mounting_depth = 20  # mm - typical tweeter depth requirement\n",
    "chamber_depth = 30  # mm - sealed chamber behind tweeter\n",
    "\n",
    "# Calculate chamber dimensions\n",
    "chamber_volume_cm3 = enclosure_volume_L * 1000  # cm³\n",
    "chamber_diameter = 60  # mm - reasonable chamber diameter\n",
    "required_chamber_depth = (chamber_volume_cm3 * 4) / (np.pi * (chamber_diameter/10)**2)  # cm\n",
    "\n",
    "print(\"\\n=== TWEETER ENCLOSURE DESIGN ===\")\n",
    "print(f\"\\nDriver: {tweeter_params['name']}\")\n",
    "print(f\"Dome Diameter: {dome_diameter:.0f} mm\")\n",
    "print(f\"Recommended Cutout: {cutout_diameter:.0f} mm\")\n",
    "print(f\"Mounting Depth Required: {mounting_depth} mm\")\n",
    "\n",
    "print(f\"\\nSealed Chamber Design:\")\n",
    "print(f\"Recommended Volume: {enclosure_volume_L:.3f} L ({chamber_volume_cm3:.0f} cm³)\")\n",
    "print(f\"Chamber Diameter: {chamber_diameter} mm\")\n",
    "print(f\"Required Chamber Depth: {required_chamber_depth:.1f} cm\")\n",
    "\n",
    "print(f\"\\nEnclosure Effects (minimal for tweeter):\")\n",
    "print(f\"Compliance Ratio (α): {alpha:.6f}\")\n",
    "print(f\"Qtc Change: {qtc_mult:.4f}x (virtually no change)\")\n",
    "print(f\"Fc Change: {fc_mult:.4f}x (virtually no change)\")\n",
    "\n",
    "print(f\"\\n3D Printing Specifications:\")\n",
    "print(f\"- Minimal sealed chamber behind tweeter\")\n",
    "print(f\"- Smooth internal surfaces\")\n",
    "print(f\"- Gasket groove for airtight seal\")\n",
    "print(f\"- Fill with acoustic foam (optional)\")\n",
    "print(f\"- Wall thickness: 3-4mm minimum\")\n",
    "\n",
    "# Create a simple visualization of the tweeter enclosure\n",
    "fig, (ax1, ax2) = plt.subplots(1, 2, figsize=(12, 5))\n",
    "\n",
    "# Front view\n",
    "circle1 = plt.Circle((0, 0), dome_diameter/2, fill=False, color='blue', linewidth=2, label='Dome')\n",
    "circle2 = plt.Circle((0, 0), cutout_diameter/2, fill=False, color='red', linestyle='--', linewidth=2, label='Cutout')\n",
    "ax1.add_patch(circle1)\n",
    "ax1.add_patch(circle2)\n",
    "ax1.set_xlim(-40, 40)\n",
    "ax1.set_ylim(-40, 40)\n",
    "ax1.set_aspect('equal')\n",
    "ax1.set_title('Tweeter Front View')\n",
    "ax1.grid(True, alpha=0.3)\n",
    "ax1.legend()\n",
    "ax1.set_xlabel('Distance (mm)')\n",
    "ax1.set_ylabel('Distance (mm)')\n",
    "\n",
    "# Side view cross-section\n",
    "ax2.add_patch(plt.Rectangle((-chamber_diameter/2, -chamber_depth), chamber_diameter, chamber_depth, \n",
    "                           fill=False, edgecolor='blue', linewidth=2, label='Chamber'))\n",
    "ax2.add_patch(plt.Rectangle((-dome_diameter/2, 0), dome_diameter, mounting_depth, \n",
    "                           fill=False, edgecolor='red', linewidth=2, label='Tweeter'))\n",
    "ax2.set_xlim(-40, 40)\n",
    "ax2.set_ylim(-40, 30)\n",
    "ax2.set_title('Tweeter Side View (Cross-section)')\n",
    "ax2.grid(True, alpha=0.3)\n",
    "ax2.legend()\n",
    "ax2.set_xlabel('Distance (mm)')\n",
    "ax2.set_ylabel('Distance (mm)')\n",
    "\n",
    "plt.tight_layout()\n",
    "plt.show()"
   ]
  },
  {
   "cell_type": "markdown",
   "metadata": {},
   "source": [
    "## 6. DSP Configuration Recommendations"
   ]
  },
  {
   "cell_type": "code",
   "execution_count": null,
   "metadata": {},
   "outputs": [],
   "source": [
    "# DSP recommendations for tweeter\n",
    "print(\"\\n=== DSP CONFIGURATION FOR TWEETER ===\")\n",
    "print(f\"\\nCrossover Settings:\")\n",
    "print(f\"- High-pass filter: {crossover_freq} Hz\")\n",
    "print(f\"- Filter type: Linkwitz-Riley 24 dB/octave\")\n",
    "print(f\"- Phase: 0° (LR filters have inherent phase alignment)\")\n",
    "\n",
    "print(f\"\\nEQ Recommendations:\")\n",
    "print(f\"- Gentle high-frequency shelf (if needed): +1 to +2 dB above 8kHz\")\n",
    "print(f\"- Room correction: Adjust based on measurements\")\n",
    "print(f\"- Avoid boosting below crossover frequency\")\n",
    "\n",
    "print(f\"\\nProtection Settings:\")\n",
    "print(f\"- Limiter threshold: {peak_power_usage}W equivalent ({calculate_spl_from_power(peak_power_usage, tweeter_params['sensitivity']):.1f} dB @ 1m)\")\n",
    "print(f\"- High-frequency limiter: Fast attack, slow release\")\n",
    "print(f\"- Hard limiter at amplifier power: {amplifier_power}W\")\n",
    "\n",
    "print(f\"\\nTime Alignment:\")\n",
    "print(f\"- Tweeter is typically advanced (negative delay)\")\n",
    "print(f\"- Typical delay: 0.1 - 0.5 ms behind midrange\")\n",
    "print(f\"- Fine-tune with measurements\")\n",
    "\n",
    "print(f\"\\nGain Structure:\")\n",
    "print(f\"- Input sensitivity: Adjust for desired SPL\")\n",
    "print(f\"- Match tweeter level to midrange at crossover point\")\n",
    "print(f\"- Typical tweeter attenuation: 0 to -3 dB\")\n",
    "\n",
    "# Create DSP signal flow diagram conceptually\n",
    "dsp_stages = ['Input\\nGain', 'Room\\nCorrection\\nEQ', 'High-Pass\\nFilter\\n2750 Hz', 'Time\\nAlignment', 'Limiter', 'Output\\nto Amp']\n",
    "\n",
    "fig, ax = plt.subplots(figsize=(12, 4))\n",
    "for i, stage in enumerate(dsp_stages):\n",
    "    rect = plt.Rectangle((i*2, 0), 1.5, 1, fill=True, facecolor='lightblue', \n",
    "                        edgecolor='blue', linewidth=2)\n",
    "    ax.add_patch(rect)\n",
    "    ax.text(i*2 + 0.75, 0.5, stage, ha='center', va='center', fontsize=10, fontweight='bold')\n",
    "    \n",
    "    if i < len(dsp_stages) - 1:\n",
    "        ax.arrow(i*2 + 1.5, 0.5, 0.4, 0, head_width=0.1, head_length=0.1, fc='red', ec='red')\n",
    "\n",
    "ax.set_xlim(-0.5, len(dsp_stages)*2)\n",
    "ax.set_ylim(-0.5, 1.5)\n",
    "ax.set_title('DSP Signal Flow for Tweeter Channel', fontsize=14, fontweight='bold')\n",
    "ax.axis('off')\n",
    "plt.tight_layout()\n",
    "plt.show()"
   ]
  },
  {
   "cell_type": "markdown",
   "metadata": {},
   "source": [
    "## 7. Summary and Recommendations"
   ]
  },
  {
   "cell_type": "code",
   "metadata": {},
   "outputs": [],
   "source": "print(\"\\n\" + \"=\"*60)\nprint(\" TWEETER DESIGN SUMMARY - Scan-Speak D2608/913000\")\nprint(\"=\"*60)\n\nprint(f\"\\n🔊 DRIVER SPECIFICATIONS:\")\nprint(f\"   • Type: 1\\\" textile soft dome tweeter\")\nprint(f\"   • Impedance: {tweeter_params['impedance']}Ω\")\nprint(f\"   • Sensitivity: {tweeter_params['sensitivity']} dB @ 2.83V/1m\")\nprint(f\"   • Usable range: {tweeter_params['usable_range'][0]}-{tweeter_params['usable_range'][1]:,} Hz\")\nprint(f\"   • Excellent quality Danish-made driver\")\n\nprint(f\"\\n⚡ POWER HANDLING:\")\nprint(f\"   • Available power: {amplifier_power}W @ 8Ω\")\nprint(f\"   • Recommended usage: {typical_power_usage}W typical\")\nprint(f\"   • SPL capability: {calculate_spl_from_power(amplifier_power, tweeter_params['sensitivity']):.1f} dB @ 1m (max)\")\nprint(f\"   • Excellent power headroom: {amplifier_power/typical_power_usage:.1f}x\")\n\nprint(f\"\\n🎛️ CROSSOVER DESIGN:\")\nprint(f\"   • Crossover frequency: {crossover_freq} Hz\")\nprint(f\"   • Filter type: 24 dB/octave Linkwitz-Riley\")\nprint(f\"   • Safe margin above Fs: {crossover_freq/tweeter_params['fs']:.1f}x\")\nprint(f\"   • Digital implementation via ADAU1701\")\n\nprint(f\"\\n📦 ENCLOSURE REQUIREMENTS:\")\nprint(f\"   • Type: Minimal sealed chamber\")\nprint(f\"   • Volume: {enclosure_volume_L:.3f}L ({chamber_volume_cm3:.0f} cm³)\")\nprint(f\"   • Cutout diameter: {cutout_diameter:.0f}mm\")\nprint(f\"   • Chamber depth: ~{required_chamber_depth:.0f}cm\")\nprint(f\"   • Negligible enclosure effects\")\n\nprint(f\"\\n🖨️ 3D PRINTING NOTES:\")\nprint(f\"   • Material: PETG/ABS/ASA recommended\")\nprint(f\"   • Wall thickness: 3-4mm minimum\")\nprint(f\"   • Smooth internal surfaces critical\")\nprint(f\"   • Include gasket groove for airtight seal\")\nprint(f\"   • Optional: Light acoustic foam fill\")\n\nprint(f\"\\n⚙️ DSP CONFIGURATION:\")\nprint(f\"   • High-pass: {crossover_freq} Hz, LR4 (24 dB/oct)\")\nprint(f\"   • Time alignment: ~0.1-0.5ms delay vs midrange\")\nprint(f\"   • Protection: Limiter at {peak_power_usage}W\")\nprint(f\"   • EQ: Room correction + gentle HF shelf if needed\")\n\n# Check if real data was loaded\ntry:\n    if real_data_available:\n        print(f\"\\n✅ REAL MEASUREMENT DATA AVAILABLE:\")\n        print(f\"   • Frequency response: ✓ ({len(fr_data)} measurement points)\")\n        print(f\"   • Impedance curve: ✓ ({len(impedance_data)} measurement points)\")\n        print(f\"   • Measured sensitivity range: {fr_data['spl'].min():.1f} to {fr_data['spl'].max():.1f} dB\")\n        \n        # Find actual resonance from measurements\n        resonance_idx = impedance_data['impedance'].idxmax()\n        actual_fs = impedance_data.loc[resonance_idx, 'freq']\n        print(f\"   • Measured Fs: {actual_fs:.0f} Hz (vs {tweeter_params['fs']} Hz spec)\")\n        print(f\"   • Real impedance range: {impedance_data['impedance'].min():.1f}-{impedance_data['impedance'].max():.1f} Ω\")\n        \n        # Calculate average sensitivity in usable range\n        usable_mask = (fr_data['freq'] >= tweeter_params['usable_range'][0]) & (fr_data['freq'] <= tweeter_params['usable_range'][1])\n        avg_sensitivity = fr_data[usable_mask]['spl'].mean()\n        print(f\"   • Average sensitivity (1.5-20kHz): {avg_sensitivity:.1f} dB\")\n        \n        data_status = \"✅ EXCELLENT\"\n    else:\n        print(f\"\\n❌ MEASUREMENT DATA LIMITATIONS:\")\n        data_status = \"❌ CRITICAL LIMITATION\"\nexcept NameError:\n    print(f\"\\n❌ MEASUREMENT DATA LIMITATIONS:\")\n    print(f\"   • No real measurement data available for Scan-Speak D2608/913000\")\n    print(f\"   • Frequency response curves are THEORETICAL ESTIMATES\")\n    print(f\"   • Impedance curves are SIMPLIFIED MODELS\")\n    data_status = \"❌ CRITICAL LIMITATION\"\n\nprint(f\"\\n📊 DATA STATUS SUMMARY:\")\nprint(f\"   • Tang Band W3-1876S: ✅ (CSV + QSP files)\")\nprint(f\"   • Tang Band W3-871SC: ✅ (CSV + QSP files)\")\nprint(f\"   • Scan-Speak D2608/913000: {data_status}\")\n\nprint(f\"\\n✅ DESIGN VALIDATION:\")\nprint(f\"   • Crossover well above resonance: ✓\")\nprint(f\"   • Adequate power handling: ✓\")\nprint(f\"   • Minimal enclosure effects: ✓\")\nprint(f\"   • High-quality driver selection: ✓\")\nprint(f\"   • Proper impedance matching: ✓\")\ntry:\n    if real_data_available:\n        print(f\"   • Real measurement data: ✅\")\n    else:\n        print(f\"   • Real measurement data: ❌\")\nexcept NameError:\n    print(f\"   • Real measurement data: ❌\")\n\nprint(f\"\\n\" + \"=\"*60)\ntry:\n    if real_data_available:\n        print(\" ✅ READY FOR PRECISE 3D MODELING AND DSP PROGRAMMING! \")\n    else:\n        print(\" RECOMMENDATION: Obtain real measurements for tweeter! \")\nexcept NameError:\n    print(\" RECOMMENDATION: Obtain real measurements for tweeter! \")\nprint(\"=\"*60)",
   "execution_count": null
  }
 ],
 "metadata": {
  "kernelspec": {
   "display_name": "venv",
   "language": "python",
   "name": "python3"
  },
  "language_info": {
   "codemirror_mode": {
    "name": "ipython",
    "version": 3
   },
   "file_extension": ".py",
   "mimetype": "text/x-python",
   "name": "python",
   "nbconvert_exporter": "python",
   "pygments_lexer": "ipython3",
   "version": "3.13.3"
  }
 },
 "nbformat": 4,
 "nbformat_minor": 4
}