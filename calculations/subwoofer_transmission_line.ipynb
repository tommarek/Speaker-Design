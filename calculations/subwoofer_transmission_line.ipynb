{
 "cells": [
  {
   "cell_type": "markdown",
   "metadata": {},
   "source": [
    "# Transmission Line Subwoofer - Dual Tang Band W3-1876S\n",
    "\n",
    "This notebook contains acoustic calculations for **two Tang Band W3-1876S** 3\" subwoofers in a **transmission line enclosure** configuration.\n",
    "\n",
    "## System Configuration\n",
    "- **Drivers**: 2× Tang Band W3-1876S (4Ω each)\n",
    "- **Wiring**: Parallel connection (2Ω total load)\n",
    "- **Enclosure**: Transmission Line (TL) design\n",
    "- **Output**: Rear-facing line exit\n",
    "- **Amplifier**: 50W @ 2Ω (XH-M180)\n",
    "- **Usage**: Low frequencies (~20Hz - 200Hz)"
   ]
  },
  {
   "cell_type": "code",
   "execution_count": null,
   "metadata": {},
   "outputs": [],
   "source": [
    "import numpy as np\n",
    "import matplotlib.pyplot as plt\n",
    "import pandas as pd\n",
    "from scipy import signal\n",
    "from scipy.interpolate import interp1d\n",
    "from scipy.optimize import minimize_scalar\n",
    "import warnings\n",
    "warnings.filterwarnings('ignore')\n",
    "\n",
    "# Set up plotting style\n",
    "plt.style.use('seaborn-v0_8')\n",
    "plt.rcParams['figure.figsize'] = (12, 8)\n",
    "plt.rcParams['font.size'] = 12"
   ]
  },
  {
   "cell_type": "markdown",
   "metadata": {},
   "source": [
    "## 1. Driver Parameters from Real Measurements"
   ]
  },
  {
   "cell_type": "code",
   "execution_count": null,
   "metadata": {},
   "outputs": [],
   "source": [
    "# Tang Band W3-1876S Parameters from specs.MD and QSP file\n",
    "subwoofer_params = {\n",
    "    'name': 'Tang Band W3-1876S',\n",
    "    'type': '3\" Subwoofer',\n",
    "    'quantity': 2,  # Dual drivers\n",
    "    'impedance_single': 4,  # Ω per driver\n",
    "    'impedance_parallel': 2,  # Ω when wired in parallel\n",
    "    'sensitivity': 76.0,  # dB @ 2.83V/1m (FROM SPECS.MD)\n",
    "    'fs': 55.0,  # Hz - Free air resonance (FROM SPECS.MD)\n",
    "    'qts': 0.43,  # Total Q factor (FROM SPECS.MD)\n",
    "    'qms': 3.17,  # Mechanical Q factor (FROM SPECS.MD)\n",
    "    'qes': 0.5,  # Electrical Q factor (FROM SPECS.MD)\n",
    "    'vas_single': 0.85,  # L - Equivalent volume per driver (FROM SPECS.MD)\n",
    "    'vas_total': 0.85 * 2,  # L - Total equivalent volume for dual drivers\n",
    "    'bl': 5.28,  # Tm - BL product (FROM SPECS.MD)\n",
    "    're': 3.6,  # Ω - DC resistance (FROM SPECS.MD)\n",
    "    'le': 0.19,  # mH - Voice coil inductance (FROM SPECS.MD)\n",
    "    'sd_single': 27e-4,  # m² - Effective piston area per driver (FROM SPECS.MD)\n",
    "    'sd_total': 27e-4 * 2,  # m² - Total effective piston area\n",
    "    'xmax': 5.0e-3,  # m - Maximum linear excursion per driver (FROM SPECS.MD)\n",
    "    'diameter': 93.2e-3,  # m - Overall outside diameter per driver (FROM SPECS.MD)\n",
    "    'cutout_diameter': 74.4e-3,  # m - Baffle cutout diameter (FROM SPECS.MD)\n",
    "    'power_single': 30,  # W - Maximum power per driver (FROM SPECS.MD)\n",
    "    'power_total': 60,  # W - Total power for both drivers\n",
    "    'usage_range': (20, 200),  # Hz - Frequency range in 3-way system\n",
    "    'enclosure_type': 'transmission_line',\n",
    "    'features': [\n",
    "        'Poly cone material',\n",
    "        'Santoprene surround',\n",
    "        'Neodymium magnet',\n",
    "        'High excursion capability (5mm)',\n",
    "        'Suitable for transmission line designs'\n",
    "    ]\n",
    "}\n",
    "\n",
    "print(\"✅ Tang Band W3-1876S Parameters for Transmission Line Loaded\!\")"
   ]
  }
 ],
 "metadata": {
  "kernelspec": {
   "display_name": "Python 3",
   "language": "python",
   "name": "python3"
  },
  "language_info": {
   "codemirror_mode": {
    "name": "ipython",
    "version": 3
   },
   "file_extension": ".py",
   "mimetype": "text/x-python",
   "name": "python",
   "nbconvert_exporter": "python",
   "pygments_lexer": "ipython3",
   "version": "3.8.0"
  }
 },
 "nbformat": 4,
 "nbformat_minor": 4
}
EOF < /dev/null