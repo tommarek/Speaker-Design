{
 "cells": [
  {
   "cell_type": "markdown",
   "metadata": {},
   "source": [
    "# Transmission Line Subwoofer - Dual Tang Band W3-1876S\n",
    "\n",
    "This notebook contains acoustic calculations for **two Tang Band W3-1876S** 3\" subwoofers in a **transmission line enclosure** configuration.\n",
    "\n",
    "## System Configuration\n",
    "- **Drivers**: 2× Tang Band W3-1876S (4Ω each)\n",
    "- **Wiring**: Parallel connection (2Ω total load)\n",
    "- **Enclosure**: Transmission Line (TL) design\n",
    "- **Output**: Rear-facing line exit\n",
    "- **Amplifier**: 50W @ 2Ω (XH-M180)\n",
    "- **Usage**: Low frequencies (~20Hz - 200Hz)"
   ]
  },
  {
   "cell_type": "code",
   "execution_count": null,
   "metadata": {},
   "outputs": [],
   "source": [
    "import numpy as np\n",
    "import matplotlib.pyplot as plt\n",
    "import pandas as pd\n",
    "from scipy import signal\n",
    "from scipy.interpolate import interp1d\n",
    "from scipy.optimize import minimize_scalar\n",
    "import warnings\n",
    "warnings.filterwarnings('ignore')\n",
    "\n",
    "# Set up plotting style\n",
    "plt.style.use('seaborn-v0_8')\n",
    "plt.rcParams['figure.figsize'] = (12, 8)\n",
    "plt.rcParams['font.size'] = 12"
   ]
  },
  {
   "cell_type": "markdown",
   "metadata": {},
   "source": [
    "## 1. Driver Parameters from Real Measurements"
   ]
  },
  {
   "cell_type": "code",
   "execution_count": null,
   "metadata": {},
   "outputs": [],
   "source": [
    "# Tang Band W3-1876S Parameters from specs.MD and QSP file\n",
    "subwoofer_params = {\n",
    "    'name': 'Tang Band W3-1876S',\n",
    "    'type': '3\" Subwoofer',\n",
    "    'quantity': 2,  # Dual drivers\n",
    "    'impedance_single': 4,  # Ω per driver\n",
    "    'impedance_parallel': 2,  # Ω when wired in parallel\n",
    "    'sensitivity': 76.0,  # dB @ 2.83V/1m (FROM SPECS.MD)\n",
    "    'fs': 55.0,  # Hz - Free air resonance (FROM SPECS.MD)\n",
    "    'qts': 0.43,  # Total Q factor (FROM SPECS.MD)\n",
    "    'qms': 3.17,  # Mechanical Q factor (FROM SPECS.MD)\n",
    "    'qes': 0.5,  # Electrical Q factor (FROM SPECS.MD)\n",
    "    'vas_single': 0.85,  # L - Equivalent volume per driver (FROM SPECS.MD)\n",
    "    'vas_total': 0.85 * 2,  # L - Total equivalent volume for dual drivers\n",
    "    'bl': 5.28,  # Tm - BL product (FROM SPECS.MD)\n",
    "    're': 3.6,  # Ω - DC resistance (FROM SPECS.MD)\n",
    "    'le': 0.19,  # mH - Voice coil inductance (FROM SPECS.MD)\n",
    "    'sd_single': 27e-4,  # m² - Effective piston area per driver (FROM SPECS.MD)\n",
    "    'sd_total': 27e-4 * 2,  # m² - Total effective piston area\n",
    "    'xmax': 5.0e-3,  # m - Maximum linear excursion per driver (FROM SPECS.MD)\n",
    "    'diameter': 93.2e-3,  # m - Overall outside diameter per driver (FROM SPECS.MD)\n",
    "    'cutout_diameter': 74.4e-3,  # m - Baffle cutout diameter (FROM SPECS.MD)\n",
    "    'power_single': 30,  # W - Maximum power per driver (FROM SPECS.MD)\n",
    "    'power_total': 60,  # W - Total power for both drivers\n",
    "    'usage_range': (20, 200),  # Hz - Frequency range in 3-way system\n",
    "    'enclosure_type': 'transmission_line',\n",
    "    'features': [\n",
    "        'Poly cone material',\n",
    "        'Santoprene surround',\n",
    "        'Neodymium magnet',\n",
    "        'High excursion capability (5mm)',\n",
    "        'Suitable for transmission line designs'\n",
    "    ]\n",
    "}\n",
    "\n",
    "# Load real measurement data\n",
    "try:\n",
    "    fr_data = pd.read_csv('/home/tom/git/Speaker-Design/speakers/TangBand W3-1876S/Frequency Response.csv', \n",
    "                         header=None, names=['freq', 'spl'])\n",
    "    impedance_data = pd.read_csv('/home/tom/git/Speaker-Design/speakers/TangBand W3-1876S/Impedance.csv', \n",
    "                               header=None, names=['freq', 'impedance'])\n",
    "    \n",
    "    print(\"✅ Real measurement data loaded successfully!\")\n",
    "    print(f\"Frequency response: {len(fr_data)} points from {fr_data['freq'].min():.0f} to {fr_data['freq'].max():.0f} Hz\")\n",
    "    print(f\"Impedance: {len(impedance_data)} points from {impedance_data['freq'].min():.0f} to {impedance_data['freq'].max():.0f} Hz\")\n",
    "    \n",
    "    # Adjust for dual drivers\n",
    "    print(f\"\\n📊 DUAL DRIVER ADJUSTMENTS:\")\n",
    "    print(f\"   • Sensitivity: +6dB for dual drivers = {subwoofer_params['sensitivity'] + 6:.1f} dB\")\n",
    "    print(f\"   • Impedance: 4Ω || 4Ω = 2Ω\")\n",
    "    print(f\"   • Vas: 2× individual = {subwoofer_params['vas_total']:.2f} L\")\n",
    "    print(f\"   • Sd: 2× individual = {subwoofer_params['sd_total']*1e4:.1f} cm²\")\n",
    "    \n",
    "    real_data_available = True\n",
    "except FileNotFoundError:\n",
    "    print(\"❌ Real measurement data not found\")\n",
    "    real_data_available = False\n",
    "\n",
    "# Display parameters\n",
    "df_params = pd.DataFrame([\n",
    "    ['Driver Model', subwoofer_params['name']],\n",
    "    ['Quantity', f\"{subwoofer_params['quantity']} drivers\"],\n",
    "    ['Type', subwoofer_params['type']],\n",
    "    ['Individual Impedance', f\"{subwoofer_params['impedance_single']} Ω\"],\n",
    "    ['Parallel Impedance', f\"{subwoofer_params['impedance_parallel']} Ω\"],\n",
    "    ['Individual Sensitivity', f\"{subwoofer_params['sensitivity']} dB @ 2.83V/1m\"],\n",
    "    ['Dual Driver Sensitivity', f\"{subwoofer_params['sensitivity'] + 6:.1f} dB @ 2.83V/1m\"],\n",
    "    ['Free Air Resonance (Fs)', f\"{subwoofer_params['fs']} Hz\"],\n",
    "    ['Total Q (Qts)', f\"{subwoofer_params['qts']:.2f}\"],\n",
    "    ['Mechanical Q (Qms)', f\"{subwoofer_params['qms']:.2f}\"],\n",
    "    ['Electrical Q (Qes)', f\"{subwoofer_params['qes']:.2f}\"],\n",
    "    ['Individual Vas', f\"{subwoofer_params['vas_single']:.2f} L\"],\n",
    "    ['Total Vas', f\"{subwoofer_params['vas_total']:.2f} L\"],\n",
    "    ['BL Product', f\"{subwoofer_params['bl']} Tm\"],\n",
    "    ['DC Resistance (Re)', f\"{subwoofer_params['re']} Ω\"],\n",
    "    ['Voice Coil Inductance (Le)', f\"{subwoofer_params['le']} mH\"],\n",
    "    ['Individual Sd', f\"{subwoofer_params['sd_single']*1e4:.1f} cm²\"],\n",
    "    ['Total Sd', f\"{subwoofer_params['sd_total']*1e4:.1f} cm²\"],\n",
    "    ['Max Excursion (Xmax)', f\"{subwoofer_params['xmax']*1000:.1f} mm\"],\n",
    "    ['Overall Diameter', f\"{subwoofer_params['diameter']*1000:.1f} mm\"],\n",
    "    ['Cutout Diameter', f\"{subwoofer_params['cutout_diameter']*1000:.1f} mm\"],\n",
    "    ['Individual Power', f\"{subwoofer_params['power_single']} W\"],\n",
    "    ['Total Power Handling', f\"{subwoofer_params['power_total']} W\"],\n",
    "    ['Usage Range', f\"{subwoofer_params['usage_range'][0]}-{subwoofer_params['usage_range'][1]} Hz\"],\n",
    "    ['Enclosure Type', f\"{subwoofer_params['enclosure_type']} (rear exit)\"]\n",
    "], columns=['Parameter', 'Value'])\n",
    "\n",
    "print(\"\\n📋 Tang Band W3-1876S Parameters for Transmission Line:\")\n",
    "print(\"=\" * 70)\n",
    "print(df_params.to_string(index=False))\n",
    "\n",
    "print(f\"\\n🔧 KEY FEATURES FOR TL DESIGN:\")\n",
    "for feature in subwoofer_params['features']:\n",
    "    print(f\"   • {feature}\")"
   ]
  },
  {
   "cell_type": "markdown",
   "metadata": {},
   "source": [
    "## 2. Transmission Line Theory & Design"
   ]
  },
  {
   "cell_type": "code",
   "metadata": {},
   "outputs": [],
   "source": "# Transmission Line Design Fundamentals\ndef calculate_tl_parameters(fs, qts, vas_total, sd_total, target_f3=30):\n    \"\"\"\n    Calculate transmission line parameters using Classic Voigt Pipe approach\n    \n    WHY WE USE 55 Hz (DRIVER Fs) FOR LINE TUNING:\n    \n    Classic Voigt Pipe Philosophy:\n    - Tune the transmission line to the driver's free-air resonance (Fs = 55 Hz)\n    - This provides optimal acoustic loading at the driver's natural resonance\n    - The line presents high acoustic resistance at 55 Hz, effectively damping the driver\n    - Result: Eliminates mid-bass boom and allows smooth, natural bass extension\n    \n    Benefits over low-tuned approach:\n    - Maximum driver control (eliminates resonance peak at 55 Hz)\n    - Smoother frequency response (no artificial boost peaks)\n    - Better transient response (proper phase relationship)\n    - More efficient operation (driver and line work in synergy)\n    - Predictable, natural bass rolloff to lower frequencies\n    \n    For Tang Band W3-1876S with Fs=55Hz and Qts=0.43:\n    - Well-damped driver (Qts=0.43) is perfect for TL loading\n    - 55 Hz tuning maximizes control and articulation\n    - Natural extension will reach target F3 of ~30 Hz\n    \"\"\"\n    \n    # Speed of sound (adjustable for line stuffing)\n    c_air = 343  # m/s in free air\n    c_line = c_air * 0.65  # Effective speed in stuffed line (~35% reduction)\n    \n    # Classic Voigt Pipe approach: tune to driver Fs for optimal acoustic loading\n    line_resonance = fs  # 55 Hz - matches driver Fs for maximum control and damping\n    \n    # Calculate quarter-wave line length\n    wavelength = c_line / line_resonance\n    quarter_wave_length = wavelength / 4\n    \n    # Line cross-sectional area guidelines\n    # Rule of thumb: Line area = 0.6 to 1.2 times driver Sd\n    line_area_min = sd_total * 0.6\n    line_area_optimal = sd_total * 0.8\n    line_area_max = sd_total * 1.2\n    \n    # Calculate equivalent line diameter for circular cross-section\n    line_diameter_optimal = 2 * np.sqrt(line_area_optimal / np.pi)\n    \n    # Alternative rectangular cross-sections\n    # Common aspect ratios: 2:1, 3:1, 4:1\n    aspect_ratios = [2, 3, 4]\n    rect_sections = []\n    \n    for ratio in aspect_ratios:\n        height = np.sqrt(line_area_optimal / ratio)\n        width = height * ratio\n        rect_sections.append({\n            'aspect_ratio': ratio,\n            'width_m': width,\n            'height_m': height,\n            'width_cm': width * 100,\n            'height_cm': height * 100,\n            'area_m2': width * height\n        })\n    \n    # Folded line considerations\n    # For compact design, calculate folded configurations\n    fold_options = [1, 2, 3, 4]  # Number of folds\n    folded_configs = []\n    \n    for folds in fold_options:\n        segments = folds + 1\n        segment_length = quarter_wave_length / segments\n        \n        # Estimate enclosure dimensions for folded line\n        if folds == 1:  # U-shaped\n            enclosure_length = segment_length * 2 + 0.1  # Add clearance\n            enclosure_width = line_diameter_optimal + 0.05\n        elif folds == 2:  # Z-shaped\n            enclosure_length = segment_length + 0.1\n            enclosure_width = line_diameter_optimal * 2 + 0.05\n        else:  # Complex folding\n            enclosure_length = segment_length * np.sqrt(segments) + 0.1\n            enclosure_width = line_diameter_optimal * np.sqrt(segments) + 0.05\n        \n        folded_configs.append({\n            'folds': folds,\n            'segments': segments,\n            'segment_length_m': segment_length,\n            'segment_length_cm': segment_length * 100,\n            'enclosure_length_m': enclosure_length,\n            'enclosure_width_m': enclosure_width,\n            'enclosure_length_cm': enclosure_length * 100,\n            'enclosure_width_cm': enclosure_width * 100,\n            'complexity': 'Low' if folds <= 2 else 'High'\n        })\n    \n    return {\n        'line_resonance_hz': line_resonance,\n        'quarter_wave_length_m': quarter_wave_length,\n        'quarter_wave_length_cm': quarter_wave_length * 100,\n        'line_area_optimal_m2': line_area_optimal,\n        'line_area_optimal_cm2': line_area_optimal * 1e4,\n        'line_diameter_optimal_m': line_diameter_optimal,\n        'line_diameter_optimal_cm': line_diameter_optimal * 100,\n        'c_effective': c_line,\n        'rectangular_sections': rect_sections,\n        'folded_configurations': folded_configs\n    }\n\n# Calculate TL parameters for our drivers\ntl_design = calculate_tl_parameters(\n    subwoofer_params['fs'],\n    subwoofer_params['qts'],\n    subwoofer_params['vas_total'],\n    subwoofer_params['sd_total'],\n    target_f3=30\n)\n\nprint(\"🌊 TRANSMISSION LINE DESIGN CALCULATIONS (Classic Voigt Pipe):\")\nprint(\"=\" * 70)\nprint(f\"Driver Fs: {subwoofer_params['fs']:.1f} Hz\")\nprint(f\"Line tuning frequency: {tl_design['line_resonance_hz']:.1f} Hz (= Driver Fs)\")\nprint(f\"Effective sound speed in line: {tl_design['c_effective']:.0f} m/s\")\nprint(f\"Quarter-wave line length: {tl_design['quarter_wave_length_cm']:.1f} cm\")\nprint(f\"\")\nprint(f\"🎯 WHY 55 Hz TUNING:\")\nprint(f\"   • Provides optimal acoustic loading at driver resonance\")\nprint(f\"   • Damps driver's natural resonance (eliminates boom at 55 Hz)\")\nprint(f\"   • Allows smooth, natural bass extension to ~30 Hz\")\nprint(f\"   • Perfect for well-damped driver (Qts = {subwoofer_params['qts']:.2f})\")\nprint(f\"\")\nprint(f\"📐 LINE CROSS-SECTION:\")\nprint(f\"Total driver area (Sd): {subwoofer_params['sd_total']*1e4:.1f} cm²\")\nprint(f\"Optimal line area: {tl_design['line_area_optimal_cm2']:.1f} cm²\")\nprint(f\"Equivalent circular diameter: {tl_design['line_diameter_optimal_cm']:.1f} cm\")\n\nprint(f\"\\n📊 RECTANGULAR CROSS-SECTION OPTIONS:\")\nrect_df = pd.DataFrame(tl_design['rectangular_sections'])\nprint(rect_df[['aspect_ratio', 'width_cm', 'height_cm']].round(1).to_string(index=False))\n\nprint(f\"\\n🔄 FOLDED LINE CONFIGURATIONS:\")\nfolded_df = pd.DataFrame(tl_design['folded_configurations'])\nprint(folded_df[['folds', 'segment_length_cm', 'enclosure_length_cm', 'enclosure_width_cm', 'complexity']].round(1).to_string(index=False))"
  },
  {
   "cell_type": "markdown",
   "metadata": {},
   "source": "## 3. Stuffing Density Analysis & Line Length Variations",
   "outputs": []
  },
  {
   "cell_type": "code",
   "source": "# Stuffing Density Impact on Transmission Line Length\ndef analyze_stuffing_effects(fs=55, target_video_length=140):\n    \"\"\"\n    Analyze how different stuffing densities affect transmission line length\n    \n    The key insight: Stuffing material slows down sound speed in the line,\n    which directly affects the required physical length for quarter-wave resonance.\n    \n    Formula: Line_Length = (c_effective / frequency) / 4\n    Where c_effective = c_air * (1 - speed_reduction_factor)\n    \"\"\"\n    \n    c_air = 343  # m/s - speed of sound in free air\n    \n    # Different stuffing scenarios\n    stuffing_scenarios = [\n        {'name': 'No Stuffing', 'reduction': 0.0, 'density_g_L': '0', 'characteristics': 'Maximum output, risk of standing waves'},\n        {'name': 'Very Light', 'reduction': 0.10, 'density_g_L': '3-8', 'characteristics': 'Long line, minimal damping, risk of coloration'},\n        {'name': 'Light', 'reduction': 0.20, 'density_g_L': '8-12', 'characteristics': 'Balanced length vs damping'},\n        {'name': 'Medium (Current)', 'reduction': 0.35, 'density_g_L': '15-25', 'characteristics': 'Good damping, compact line, recommended'},\n        {'name': 'Heavy', 'reduction': 0.50, 'density_g_L': '30-50', 'characteristics': 'Maximum damping, very compact, may reduce output'},\n        {'name': 'Very Heavy', 'reduction': 0.65, 'density_g_L': '50+', 'characteristics': 'Overdamped, significant output loss'}\n    ]\n    \n    results = []\n    \n    print(f\"🧶 STUFFING DENSITY ANALYSIS FOR 55 Hz TUNING:\")\n    print(f\"=\" * 80)\n    print(f\"Target frequency: {fs} Hz (Driver Fs)\")\n    print(f\"Video reference length: {target_video_length} cm\")\n    print(f\"\")\n    \n    for scenario in stuffing_scenarios:\n        c_effective = c_air * (1 - scenario['reduction'])\n        wavelength = c_effective / fs\n        line_length_m = wavelength / 4\n        line_length_cm = line_length_m * 100\n        \n        # Check which matches video length\n        matches_video = abs(line_length_cm - target_video_length) < 5  # Within 5cm\n        \n        results.append({\n            'stuffing': scenario['name'],\n            'reduction_%': scenario['reduction'] * 100,\n            'c_effective_ms': c_effective,\n            'length_cm': line_length_cm,\n            'density_g_L': scenario['density_g_L'],\n            'matches_video': matches_video,\n            'characteristics': scenario['characteristics']\n        })\n        \n        status = \"📹 MATCHES VIDEO!\" if matches_video else \"\"\n        print(f\"{scenario['name']:12} | {scenario['reduction']*100:4.0f}% | {c_effective:3.0f} m/s | {line_length_cm:5.1f} cm | {scenario['density_g_L']:6} g/L | {status}\")\n        print(f\"             └─ {scenario['characteristics']}\")\n        print()\n    \n    # Create comparison table\n    df_stuffing = pd.DataFrame(results)\n    \n    print(f\"\\n📊 STUFFING COMPARISON TABLE:\")\n    print(df_stuffing[['stuffing', 'reduction_%', 'length_cm', 'density_g_L', 'matches_video']].to_string(index=False))\n    \n    # Find what stuffing density gives video length\n    video_c_effective = target_video_length / 100 * 4 * fs  # Reverse calculate\n    video_reduction = (c_air - video_c_effective) / c_air\n    \n    print(f\"\\n🎯 VIDEO ANALYSIS:\")\n    print(f\"   • Video line length: {target_video_length} cm\")\n    print(f\"   • Required c_effective: {video_c_effective:.0f} m/s\")\n    print(f\"   • Implied speed reduction: {video_reduction*100:.1f}%\")\n    print(f\"   • Corresponds to: Very Light stuffing (3-8 g/L)\")\n    \n    print(f\"\\n⚖️ DESIGN TRADE-OFFS:\")\n    print(f\"   • Lighter Stuffing → Longer line, more output, risk of coloration\")\n    print(f\"   • Heavier Stuffing → Shorter line, less output, better damping\")\n    print(f\"   • Sweet Spot: Medium stuffing (15-25 g/L) for balanced performance\")\n    \n    return results\n\n# Recalculate TL with different stuffing densities\ndef calculate_tl_with_stuffing(fs, stuffing_reduction=0.35):\n    \"\"\"Calculate TL parameters with specific stuffing density\"\"\"\n    c_air = 343\n    c_line = c_air * (1 - stuffing_reduction)\n    \n    wavelength = c_line / fs\n    quarter_wave_length = wavelength / 4\n    \n    return {\n        'stuffing_reduction': stuffing_reduction,\n        'c_effective': c_line,\n        'length_m': quarter_wave_length,\n        'length_cm': quarter_wave_length * 100\n    }\n\n# Run stuffing analysis\nstuffing_results = analyze_stuffing_effects(\n    fs=subwoofer_params['fs'], \n    target_video_length=140  # Video shows ~1.4m line\n)\n\nprint(f\"\\n🔬 RECOMMENDED DESIGN APPROACHES:\")\nprint(f\"=\" * 60)\n\n# Show different design options\ndesign_options = [\n    {'name': 'Video-Style (Light Stuffing)', 'reduction': 0.10, 'pros': ['Longer line', 'Maximum output'], 'cons': ['Risk of coloration', 'Larger enclosure']},\n    {'name': 'Balanced (Medium Stuffing)', 'reduction': 0.35, 'pros': ['Good damping', 'Compact size', 'Clean sound'], 'cons': ['Slightly less output']},\n    {'name': 'Compact (Heavy Stuffing)', 'reduction': 0.50, 'pros': ['Very compact', 'Maximum damping'], 'cons': ['Reduced output', 'Over-damped']}\n]\n\nfor option in design_options:\n    tl_calc = calculate_tl_with_stuffing(subwoofer_params['fs'], option['reduction'])\n    print(f\"\\n{option['name']}:\")\n    print(f\"   • Length: {tl_calc['length_cm']:.1f} cm\")\n    print(f\"   • Pros: {', '.join(option['pros'])}\")\n    print(f\"   • Cons: {', '.join(option['cons'])}\")\n\nprint(f\"\\n✅ RECOMMENDATION:\")\nprint(f\"   For 3D printed enclosure: Medium stuffing (35% reduction)\")\nprint(f\"   • Line length: {calculate_tl_with_stuffing(subwoofer_params['fs'], 0.35)['length_cm']:.1f} cm\")\nprint(f\"   • Best balance of performance, size, and manufacturing\")",
   "metadata": {},
   "outputs": []
  },
  {
   "cell_type": "code",
   "metadata": {},
   "outputs": [],
   "source": "## 4. Design Summary & Recommendations"
  },
  {
   "cell_type": "code",
   "source": "print(\"\\n\" + \"=\"*80)\nprint(\" TRANSMISSION LINE SUBWOOFER - DESIGN SUMMARY \")\nprint(\"=\"*80)\n\nprint(f\"\\n🔊 SYSTEM SPECIFICATIONS:\")\nprint(f\"   • Drivers: 2× {subwoofer_params['name']} (parallel, 2Ω)\")\nprint(f\"   • Sensitivity: {subwoofer_params['sensitivity'] + 6:.1f} dB @ 2.83V/1m (dual)\")\nprint(f\"   • Driver Fs: {subwoofer_params['fs']:.1f} Hz\")\nprint(f\"   • Driver Qts: {subwoofer_params['qts']:.2f} (well-damped, perfect for TL)\")\n\nprint(f\"\\n🌊 TRANSMISSION LINE DESIGN (Classic Voigt Pipe):\")\nprint(f\"   • Tuning frequency: {tl_design['line_resonance_hz']:.1f} Hz (= Driver Fs)\")\nprint(f\"   • Design philosophy: Maximum driver control and damping\")\n\nprint(f\"\\n📏 STUFFING DENSITY OPTIONS:\")\nprint(f\"   ┌─ No Stuffing:     {calculate_tl_with_stuffing(subwoofer_params['fs'], 0.0)['length_cm']:.0f} cm (risk of standing waves)\")\nprint(f\"   ├─ Very Light (Video): {calculate_tl_with_stuffing(subwoofer_params['fs'], 0.10)['length_cm']:.0f} cm (3-8 g/L)\")\nprint(f\"   ├─ Light:          {calculate_tl_with_stuffing(subwoofer_params['fs'], 0.20)['length_cm']:.0f} cm (8-12 g/L)\")\nprint(f\"   ├─ Medium (Recommended): {calculate_tl_with_stuffing(subwoofer_params['fs'], 0.35)['length_cm']:.0f} cm (15-25 g/L)\")\nprint(f\"   ├─ Heavy:          {calculate_tl_with_stuffing(subwoofer_params['fs'], 0.50)['length_cm']:.0f} cm (30-50 g/L)\")\nprint(f\"   └─ Very Heavy:     {calculate_tl_with_stuffing(subwoofer_params['fs'], 0.65)['length_cm']:.0f} cm (50+ g/L)\")\n\n# Get recommended design parameters\nrecommended_tl = calculate_tl_with_stuffing(subwoofer_params['fs'], 0.35)\noptimal_rect = tl_design['rectangular_sections'][1]  # 3:1 aspect ratio\n\nprint(f\"\\n✅ RECOMMENDED DESIGN:\")\nprint(f\"   • Stuffing: Medium density (15-25 g/L polyester fill)\")\nprint(f\"   • Line length: {recommended_tl['length_cm']:.1f} cm\")\nprint(f\"   • Cross-section: {optimal_rect['width_cm']:.1f} × {optimal_rect['height_cm']:.1f} cm (3:1 aspect ratio)\")\nprint(f\"   • Folding: U-shaped for 3D printing compatibility\")\nprint(f\"   • Reasoning: Best balance of size, performance, and manufacturing\")\n\nprint(f\"\\n🎯 WHY THIS DESIGN WORKS:\")\nprint(f\"   • 55 Hz tuning provides optimal acoustic loading at driver resonance\")\nprint(f\"   • Eliminates mid-bass boom by damping driver's natural peak\")\nprint(f\"   • Medium stuffing ensures clean sound without over-damping\")\nprint(f\"   • Compact enough for practical 3D printing\")\nprint(f\"   • Natural bass extension to ~30 Hz target F3\")\n\nprint(f\"\\n🖨️ 3D PRINTING CONSIDERATIONS:\")\nprint(f\"   • Material: PETG/ABS/ASA (temperature stable)\")\nprint(f\"   • Wall thickness: 6mm minimum for acoustic isolation\")\nprint(f\"   • Internal surface: Smooth finish critical for airflow\")\nprint(f\"   • Folded design: Reduces print bed requirements\")\nprint(f\"   • Modular approach: Print in sections for large enclosures\")\n\nprint(f\"\\n⚖️ DESIGN ALTERNATIVES:\")\nprint(f\"   📹 Video-Style (Very Light Stuffing):\")\nprint(f\"      • Length: {calculate_tl_with_stuffing(subwoofer_params['fs'], 0.10)['length_cm']:.0f} cm\")\nprint(f\"      • Pros: Maximum output, impressive low-end extension\")\nprint(f\"      • Cons: Much larger enclosure, risk of mid-bass coloration\")\nprint(f\"      • Use if: Space is not a concern, maximum SPL desired\")\nprint(f\"   \")\nprint(f\"   🏠 Compact (Heavy Stuffing):\")\nprint(f\"      • Length: {calculate_tl_with_stuffing(subwoofer_params['fs'], 0.50)['length_cm']:.0f} cm\")\nprint(f\"      • Pros: Very compact, maximum cleanliness\")\nprint(f\"      • Cons: Reduced output, potential over-damping\")\nprint(f\"      • Use if: Space is critical, subtle bass preferred\")\n\nprint(f\"\\n🔧 CONSTRUCTION NOTES:\")\nprint(f\"   • Stuff gradually: Dense at driver end, light at exit\")\nprint(f\"   • Material: Acoustic polyester fill (not household stuffing)\")\nprint(f\"   • Installation: Loosely packed, maintain air movement\")\nprint(f\"   • Testing: Measure line resonance with tone generator\")\nprint(f\"   • Fine-tuning: Adjust stuffing density for desired response\")\n\nprint(f\"\\n\" + \"=\"*80)\nprint(f\" TRANSMISSION LINE DESIGN COMPLETE - MULTIPLE OPTIONS ANALYZED! \")\nprint(\"=\"*80)\n\nprint(f\"\\n🚀 IMPLEMENTATION RECOMMENDATIONS:\")\nprint(f\"   1. Start with medium stuffing design (101 cm line)\")\nprint(f\"   2. Prototype and measure actual response\")\nprint(f\"   3. Adjust stuffing density to fine-tune performance\")\nprint(f\"   4. Consider video-style design if space allows (156 cm line)\")\nprint(f\"   5. Document final stuffing amount for repeatability\")",
   "metadata": {},
   "outputs": []
  }
 ],
 "metadata": {
  "kernelspec": {
   "display_name": "Python 3",
   "language": "python",
   "name": "python3"
  },
  "language_info": {
   "codemirror_mode": {
    "name": "ipython",
    "version": 3
   },
   "file_extension": ".py",
   "mimetype": "text/x-python",
   "name": "python",
   "nbconvert_exporter": "python",
   "pygments_lexer": "ipython3",
   "version": "3.8.5"
  }
 },
 "nbformat": 4,
 "nbformat_minor": 4
}